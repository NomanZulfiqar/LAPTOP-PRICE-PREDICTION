{
 "cells": [
  {
   "cell_type": "code",
   "execution_count": 1,
   "id": "12cc7168-5e28-4114-8e4a-a7580a98346f",
   "metadata": {
    "pycharm": {
     "name": "#%%\n"
    }
   },
   "outputs": [],
   "source": [
    "import pandas as pd"
   ]
  },
  {
   "cell_type": "code",
   "execution_count": null,
   "id": "5848c6b8-a360-44dc-9db4-e2f3019c679f",
   "metadata": {
    "pycharm": {
     "name": "#%%\n"
    }
   },
   "outputs": [],
   "source": [
    "df = pd.read_csv(\"laptop_price.csv\", encoding=\"latin-1\")"
   ]
  },
  {
   "cell_type": "code",
   "execution_count": null,
   "id": "476212e2-b43d-4365-a1d1-58aa85194949",
   "metadata": {
    "pycharm": {
     "name": "#%%\n"
    }
   },
   "outputs": [],
   "source": [
    "df"
   ]
  },
  {
   "cell_type": "code",
   "execution_count": null,
   "id": "3e529af7-e137-4052-b10b-71d1fd8c54b6",
   "metadata": {
    "pycharm": {
     "name": "#%%\n"
    }
   },
   "outputs": [],
   "source": [
    "df = df.drop(\"Product\", axis=1)"
   ]
  },
  {
   "cell_type": "code",
   "execution_count": null,
   "id": "e1ae23f1-a60f-404b-8518-38db703f4b07",
   "metadata": {
    "pycharm": {
     "name": "#%%\n"
    }
   },
   "outputs": [],
   "source": [
    "df = df.join(pd.get_dummies(df.Company))\n",
    "df = df.drop(\"Company\", axis=1)"
   ]
  },
  {
   "cell_type": "code",
   "execution_count": null,
   "id": "8911d626-3f17-494e-aea4-08b8a49149dd",
   "metadata": {
    "pycharm": {
     "name": "#%%\n"
    }
   },
   "outputs": [],
   "source": [
    "df = df.join(pd.get_dummies(df.TypeName))\n",
    "df = df.drop(\"TypeName\", axis=1)"
   ]
  },
  {
   "cell_type": "code",
   "execution_count": null,
   "id": "79781858-5ee2-4e7e-a9aa-1ad60167ec56",
   "metadata": {
    "pycharm": {
     "name": "#%%\n"
    }
   },
   "outputs": [],
   "source": [
    "df"
   ]
  },
  {
   "cell_type": "code",
   "execution_count": null,
   "id": "91a6b222-8f8c-4cbb-b875-4526329d5870",
   "metadata": {
    "pycharm": {
     "name": "#%%\n"
    }
   },
   "outputs": [],
   "source": [
    "df[\"ScreenResolution\"] = df.ScreenResolution.str.split(\" \").apply(lambda x: x[-1])\n",
    "df[\"Screen Width\"] = df.ScreenResolution.str.split(\"x\").apply(lambda x: x[0])\n",
    "df[\"Screen Height\"] = df.ScreenResolution.str.split(\"x\").apply(lambda x: x[1])"
   ]
  },
  {
   "cell_type": "code",
   "execution_count": null,
   "id": "10b89246-bf9b-4d82-a1d1-37c3fcd1f90e",
   "metadata": {
    "pycharm": {
     "name": "#%%\n"
    }
   },
   "outputs": [],
   "source": [
    "df = df.drop(\"ScreenResolution\", axis=1)"
   ]
  },
  {
   "cell_type": "code",
   "execution_count": null,
   "id": "67444bb8-bee1-40d6-b09b-72772313e2d3",
   "metadata": {
    "pycharm": {
     "name": "#%%\n"
    }
   },
   "outputs": [],
   "source": [
    "df[\"CPU Brand\"] = df.Cpu.str.split(\" \").apply(lambda x: x[0])\n",
    "df[\"CPU Frequency\"] = df.Cpu.str.split(\" \").apply(lambda x: x[-1])"
   ]
  },
  {
   "cell_type": "code",
   "execution_count": null,
   "id": "b315d52f-14f3-4f14-80ed-476116f1486d",
   "metadata": {
    "pycharm": {
     "name": "#%%\n"
    }
   },
   "outputs": [],
   "source": [
    "df = df.drop(\"Cpu\", axis=1)"
   ]
  },
  {
   "cell_type": "code",
   "execution_count": null,
   "id": "17b95b69-9cf0-4161-be3f-f85aa8a90845",
   "metadata": {
    "pycharm": {
     "name": "#%%\n"
    }
   },
   "outputs": [],
   "source": [
    "df[\"CPU Frequency\"] = df[\"CPU Frequency\"].str[:-3]"
   ]
  },
  {
   "cell_type": "code",
   "execution_count": null,
   "id": "fad09ab0-4990-4261-9e56-e0090b5e870d",
   "metadata": {
    "pycharm": {
     "name": "#%%\n"
    }
   },
   "outputs": [],
   "source": [
    "df[\"Ram\"] = df[\"Ram\"].str[:-2]"
   ]
  },
  {
   "cell_type": "code",
   "execution_count": null,
   "id": "f861d7a4-62ac-47d5-8198-ec1d4d00f58b",
   "metadata": {
    "pycharm": {
     "name": "#%%\n"
    }
   },
   "outputs": [],
   "source": [
    "df[\"Ram\"] = df[\"Ram\"].astype(\"int\")\n",
    "df[\"CPU Frequency\"] = df[\"CPU Frequency\"].astype(\"float\")"
   ]
  },
  {
   "cell_type": "code",
   "execution_count": null,
   "id": "4a6c7f3f-5c77-4002-8334-349134e6ecc5",
   "metadata": {
    "pycharm": {
     "name": "#%%\n"
    }
   },
   "outputs": [],
   "source": [
    "df[\"Screen Width\"] = df[\"Screen Width\"].astype(\"int\")\n",
    "df[\"Screen Height\"] = df[\"Screen Height\"].astype(\"int\")"
   ]
  },
  {
   "cell_type": "code",
   "execution_count": null,
   "id": "7e3a6402-5920-462a-a302-3d1fff057bf3",
   "metadata": {
    "pycharm": {
     "name": "#%%\n"
    }
   },
   "outputs": [],
   "source": [
    "df[\"Memory Amount\"] = df.Memory.str.split(\" \").apply(lambda x: x[0])\n",
    "df[\"Memory Type\"] = df.Memory.str.split(\" \").apply(lambda x: x[1])"
   ]
  },
  {
   "cell_type": "code",
   "execution_count": null,
   "id": "8684eaf5-b647-4594-b836-92f8f09f6aba",
   "metadata": {
    "pycharm": {
     "name": "#%%\n"
    }
   },
   "outputs": [],
   "source": [
    "def turn_memory_into_MB(value):\n",
    "    if \"GB\" in value:\n",
    "        return float(value[:value.find(\"GB\")]) * 1000\n",
    "    elif \"TB\" in value:\n",
    "        return float(value[:value.find(\"TB\")]) * 1000000"
   ]
  },
  {
   "cell_type": "code",
   "execution_count": null,
   "id": "712adc60-d0e3-4f94-9cf0-49b025f996b5",
   "metadata": {
    "pycharm": {
     "name": "#%%\n"
    }
   },
   "outputs": [],
   "source": [
    "df[\"Memory Amount\"] = df[\"Memory Amount\"].apply(turn_memory_into_MB)"
   ]
  },
  {
   "cell_type": "code",
   "execution_count": null,
   "id": "8f8bac7f-0d11-43c5-bfa3-bdffd77342c1",
   "metadata": {
    "pycharm": {
     "name": "#%%\n"
    }
   },
   "outputs": [],
   "source": [
    "df = df.drop(\"Memory\", axis=1)"
   ]
  },
  {
   "cell_type": "code",
   "execution_count": null,
   "id": "61750607-0c95-460c-96c0-6d6c3209539b",
   "metadata": {
    "pycharm": {
     "name": "#%%\n"
    }
   },
   "outputs": [],
   "source": [
    "df[\"Weight\"] = df[\"Weight\"].str[:-2]"
   ]
  },
  {
   "cell_type": "code",
   "execution_count": null,
   "id": "f1ec9553-3575-427b-80a5-9bdf9674beb5",
   "metadata": {
    "pycharm": {
     "name": "#%%\n"
    }
   },
   "outputs": [],
   "source": [
    "df[\"Weight\"] = df[\"Weight\"].astype(\"float\")"
   ]
  },
  {
   "cell_type": "code",
   "execution_count": null,
   "id": "86e910bf-7231-4e23-92b5-488203c46293",
   "metadata": {
    "pycharm": {
     "name": "#%%\n"
    }
   },
   "outputs": [],
   "source": [
    "df[\"GPU Brand\"] = df.Gpu.str.split(\" \").apply(lambda x: x[0])"
   ]
  },
  {
   "cell_type": "code",
   "execution_count": null,
   "id": "6522ff7a-5e73-4d94-93cc-96f4a215255e",
   "metadata": {
    "pycharm": {
     "name": "#%%\n"
    }
   },
   "outputs": [],
   "source": [
    "df = df.drop(\"Gpu\", axis=1)"
   ]
  },
  {
   "cell_type": "code",
   "execution_count": null,
   "id": "4a86ab81-1d09-4d61-bfb6-84ee78ea6c80",
   "metadata": {
    "pycharm": {
     "name": "#%%\n"
    }
   },
   "outputs": [],
   "source": [
    "df = df.join(pd.get_dummies(df.OpSys))\n",
    "df = df.drop(\"OpSys\", axis=1)"
   ]
  },
  {
   "cell_type": "code",
   "execution_count": null,
   "id": "a7c4ef2d-0193-49f4-b155-c1a2b8668c07",
   "metadata": {
    "pycharm": {
     "name": "#%%\n"
    }
   },
   "outputs": [],
   "source": [
    "cpu_categories = pd.get_dummies(df[\"CPU Brand\"])\n",
    "cpu_categories.columns = [col + \"_CPU\" for col in cpu_categories.columns]\n",
    "\n",
    "df = df.join(cpu_categories)\n",
    "df = df.drop(\"CPU Brand\", axis=1)"
   ]
  },
  {
   "cell_type": "code",
   "execution_count": null,
   "id": "fa16917d-8f14-4fa3-893d-75a8968e8495",
   "metadata": {
    "pycharm": {
     "name": "#%%\n"
    }
   },
   "outputs": [],
   "source": [
    "gpu_categories = pd.get_dummies(df[\"GPU Brand\"])\n",
    "gpu_categories.columns = [col + \"_GPU\" for col in gpu_categories.columns]\n",
    "\n",
    "df = df.join(gpu_categories)\n",
    "df = df.drop(\"GPU Brand\", axis=1)"
   ]
  },
  {
   "cell_type": "code",
   "execution_count": null,
   "id": "ab933aa8-16b5-469d-b650-71991edaacce",
   "metadata": {
    "pycharm": {
     "name": "#%%\n"
    }
   },
   "outputs": [],
   "source": [
    "import seaborn as sns\n",
    "import matplotlib.pyplot as plt\n",
    "\n",
    "plt.figure(figsize=(18, 15))\n",
    "sns.heatmap(df.corr(), annot=True, cmap=\"YlGnBu\")"
   ]
  },
  {
   "cell_type": "code",
   "execution_count": null,
   "id": "fbc48483-9cf5-4297-9cde-7075d7372cda",
   "metadata": {
    "pycharm": {
     "name": "#%%\n"
    }
   },
   "outputs": [],
   "source": [
    "target_correlations = df.corr()['Price_euros'].apply(abs).sort_values()"
   ]
  },
  {
   "cell_type": "code",
   "execution_count": null,
   "id": "35a00ed5-7f60-46f8-b292-7db21f80463a",
   "metadata": {
    "pycharm": {
     "name": "#%%\n"
    }
   },
   "outputs": [],
   "source": [
    "target_correlations"
   ]
  },
  {
   "cell_type": "code",
   "execution_count": null,
   "id": "442ba807-6593-4177-a803-8003e01b0a5b",
   "metadata": {
    "pycharm": {
     "name": "#%%\n"
    }
   },
   "outputs": [],
   "source": [
    "selected_features = target_correlations[-21:].index"
   ]
  },
  {
   "cell_type": "code",
   "execution_count": null,
   "id": "2ea3bb3f-7545-4268-be3e-3cef57f91107",
   "metadata": {
    "pycharm": {
     "name": "#%%\n"
    }
   },
   "outputs": [],
   "source": [
    "selected_features = list(selected_features)"
   ]
  },
  {
   "cell_type": "code",
   "execution_count": null,
   "id": "66eaeb04-e9e9-4e3d-a48a-cb1ba7de947b",
   "metadata": {
    "pycharm": {
     "name": "#%%\n"
    }
   },
   "outputs": [],
   "source": [
    "selected_features"
   ]
  },
  {
   "cell_type": "code",
   "execution_count": null,
   "id": "a120716a-dfbd-4367-875e-d2525988c0fa",
   "metadata": {
    "pycharm": {
     "name": "#%%\n"
    }
   },
   "outputs": [],
   "source": [
    "limited_df = df[selected_features]"
   ]
  },
  {
   "cell_type": "code",
   "execution_count": null,
   "id": "d11e35af-d00a-4443-b11c-5b081ab43c17",
   "metadata": {
    "pycharm": {
     "name": "#%%\n"
    }
   },
   "outputs": [],
   "source": [
    "limited_df"
   ]
  },
  {
   "cell_type": "code",
   "execution_count": null,
   "id": "3f368c1a-3273-4b99-aea8-8548170d85d0",
   "metadata": {
    "pycharm": {
     "name": "#%%\n"
    }
   },
   "outputs": [],
   "source": [
    "plt.figure(figsize=(18, 15))\n",
    "sns.heatmap(limited_df.corr(), annot=True, cmap=\"YlGnBu\")"
   ]
  },
  {
   "cell_type": "code",
   "execution_count": null,
   "id": "8c9a470f-a2a2-4a42-b0c1-ed50fd65c8a0",
   "metadata": {
    "pycharm": {
     "name": "#%%\n"
    }
   },
   "outputs": [],
   "source": [
    "from sklearn.preprocessing import StandardScaler\n",
    "from sklearn.model_selection import train_test_split\n",
    "from sklearn.ensemble import RandomForestRegressor\n",
    "\n",
    "X, y = limited_df.drop(\"Price_euros\", axis=1), limited_df[\"Price_euros\"]\n",
    "\n",
    "X_train, X_test, y_train, y_test = train_test_split(X, y, test_size=0.15)\n",
    "\n",
    "scaler = StandardScaler()\n",
    "\n",
    "X_train_scaled = scaler.fit_transform(X_train)\n",
    "X_test_scaled = scaler.transform(X_test)"
   ]
  },
  {
   "cell_type": "code",
   "execution_count": null,
   "id": "f1f2287a-2b50-4460-a006-5510a74348cd",
   "metadata": {
    "pycharm": {
     "name": "#%%\n"
    }
   },
   "outputs": [],
   "source": [
    "forest = RandomForestRegressor()\n",
    "\n",
    "forest.fit(X_train_scaled, y_train)"
   ]
  },
  {
   "cell_type": "code",
   "execution_count": null,
   "id": "1de995b8-8376-4de7-8932-507082588116",
   "metadata": {
    "pycharm": {
     "name": "#%%\n"
    }
   },
   "outputs": [],
   "source": [
    "forest.score(X_test_scaled, y_test)"
   ]
  },
  {
   "cell_type": "code",
   "execution_count": null,
   "id": "b14b82ca-40f5-43a0-bfab-8c285c7b4bcc",
   "metadata": {
    "pycharm": {
     "name": "#%%\n"
    }
   },
   "outputs": [],
   "source": [
    "y_pred = forest.predict(X_test_scaled)"
   ]
  },
  {
   "cell_type": "code",
   "execution_count": null,
   "id": "ae42a428-707a-4143-ae11-940b72dbd633",
   "metadata": {
    "pycharm": {
     "name": "#%%\n"
    }
   },
   "outputs": [],
   "source": [
    "plt.figure(figsize=(12, 8))\n",
    "plt.scatter(y_pred, y_test)\n",
    "plt.plot(range(0, 6000), range(0, 6000), c=\"red\")\n"
   ]
  },
  {
   "cell_type": "code",
   "execution_count": null,
   "id": "a6b85bf8-41f1-4c01-bf79-26e45427f7a4",
   "metadata": {
    "pycharm": {
     "name": "#%%\n"
    }
   },
   "outputs": [],
   "source": [
    "X_new_scaled = scaler.transform([X_test.iloc[0]])"
   ]
  },
  {
   "cell_type": "code",
   "execution_count": null,
   "id": "9edb82a2-58ed-4be8-b33b-a39b6b2b5e17",
   "metadata": {
    "pycharm": {
     "name": "#%%\n"
    }
   },
   "outputs": [],
   "source": [
    "forest.predict(X_new_scaled)"
   ]
  },
  {
   "cell_type": "code",
   "execution_count": null,
   "id": "f86ab66a-dd1b-4067-93f4-be3992c9ee5e",
   "metadata": {
    "pycharm": {
     "name": "#%%\n"
    }
   },
   "outputs": [],
   "source": [
    "y_test.iloc[0]"
   ]
  },
  {
   "cell_type": "code",
   "execution_count": null,
   "id": "5371c234-39f1-4fae-9ebf-6e0df72dbe28",
   "metadata": {
    "pycharm": {
     "name": "#%%\n"
    }
   },
   "outputs": [],
   "source": []
  }
 ],
 "metadata": {
  "kernelspec": {
   "display_name": "Python 3 (ipykernel)",
   "language": "python",
   "name": "python3"
  },
  "language_info": {
   "codemirror_mode": {
    "name": "ipython",
    "version": 3
   },
   "file_extension": ".py",
   "mimetype": "text/x-python",
   "name": "python",
   "nbconvert_exporter": "python",
   "pygments_lexer": "ipython3",
   "version": "3.11.9"
  }
 },
 "nbformat": 4,
 "nbformat_minor": 5
}
